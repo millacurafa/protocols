{
 "cells": [
  {
   "cell_type": "markdown",
   "id": "9bf934b8",
   "metadata": {},
   "source": [
    "# Transcription only genetic circuit design\n",
    "\n",
    "### Abstract\n",
    "\n",
    "While synthetic biology represents a promising approach to solve real-world problems, the use of genetically modified organisms is a cause of legal and environmental concerns. Cell-free systems have emerged as a possible solution but much work is needed to optimize their functionality and simplify their usage for Synthetic Biology. Here we present TXO, transcription-only genetic circuits, independent of translation or post-translation maturation. RNA aptamers are used as reaction output allowing the generation of fast, reliable and simple-to-design transcriptional units. TXO cell-free reactions and their possible applications are a promising new tool for fast and simple bench-to-market genetic circuit and biosensor applications.\n",
    "\n",
    "Sources: \n",
    "\n",
    "Pre-print https://www.biorxiv.org/content/10.1101/826230v2.abstract\n",
    "\n",
    "Primer list: https://www.wiki.ed.ac.uk/display/CFrenchLabwiki/Primer+List\n",
    "\n",
    "DNA sequences: https://www.wiki.ed.ac.uk/pages/viewpage.action?pageId=347016949\n",
    "\n",
    "Protocols: https://www.wiki.ed.ac.uk/pages/viewpage.action?pageId=347016967\n",
    "\n",
    "Laboratory records: https://www.wiki.ed.ac.uk/display/CFrenchLabwiki/Laboratory+Book\n",
    "\n",
    "\n",
    "\n",
    "*Project continued by **Mengxi Li** (You rock Maxine!)*\n"
   ]
  },
  {
   "cell_type": "markdown",
   "id": "eb8fa0e9",
   "metadata": {},
   "source": [
    "There are a few remarks to consider if you are creating these transcriptional genetic circuits. \n",
    "\n",
    "First, the most sensitive step is the transcription and all prior steps need to be optimised for this.\n",
    "\n",
    "The TXO system uses a mixed buffer granting the best conditions to favour both RNA transcription and RNA folding.\n",
    "\n",
    "pH, salts concentration, template concentration are extremely important \n",
    "\n",
    "* RNA is susceptible to alkaline hydrolysis at pH > 6.\n",
    "\n",
    "* An increase in salt concentration increases the electrostatic shielding around charged molecules, thereby decreasing their electrostatic interactions with other molecules. Metals like lead or cupper can affect RNA folding since they are charged ions.\n",
    "\n",
    "* RNA polymerase is also susceptible to ions, it can be inhibited by high NaCl concentrations affecting the binding to DNA\n",
    "\n",
    "* Temperature can affect both RNA folding (not efficient at higher temperatures) and RNA transcription (depending on the RNApol used)\n",
    "\n",
    "Always remember that double- and single-stranded DNA and RNA are all strongly negatively charged and this is needed for ensuring proper interactions. \n",
    "\n",
    "For more information read *Sambrook, J., Fritsch, E. F., & Maniatis, T. (1989). Molecular cloning: a laboratory manual (No. Ed. 2). Cold spring harbor laboratory press.*"
   ]
  },
  {
   "cell_type": "markdown",
   "id": "eb374925",
   "metadata": {},
   "source": [
    "Another limiting step is the quantity and quality of the linear DNA fragment needed. Linear fragments are shorter and therefore you have more DNA molecules in less space. RNA polymerase (100 U) commonly needs between 0.2–1 µg of DNA to  properly work; shorter fragments need larger transcription times.\n",
    "\n",
    "There are multiple online calculators that can help you to calculate the moles of DNA molecule that you have in a reaction. You just need to know in advance the fragment size, whether is a single or double stranded DNA and the concentration in nanograms. \n",
    "\n",
    "\n",
    "Hence, primers to be used are \n",
    "\n",
    "Primers used were\n",
    "\n",
    "F310 - F297 || PbrR || No1\n",
    "\n",
    "F311 - F297 || MerR || No2\n",
    "\n",
    "F312 - F297 || CueR || No3\n",
    "\n",
    "F313 - F297 || ArsR || No4\n",
    "\n",
    "F405 - F297 || CnrH || No5\n",
    "\n",
    "F404 - F297 || CzcN || No6\n",
    "\n",
    "F296 - F297 || T7     || No7\n",
    "\n",
    "No primer    || negative || No8\n",
    "\n"
   ]
  },
  {
   "cell_type": "code",
   "execution_count": null,
   "id": "a06bcd1d",
   "metadata": {},
   "outputs": [],
   "source": []
  },
  {
   "cell_type": "code",
   "execution_count": null,
   "id": "009fad33",
   "metadata": {},
   "outputs": [],
   "source": []
  }
 ],
 "metadata": {
  "kernelspec": {
   "display_name": "Python 3",
   "language": "python",
   "name": "python3"
  },
  "language_info": {
   "codemirror_mode": {
    "name": "ipython",
    "version": 3
   },
   "file_extension": ".py",
   "mimetype": "text/x-python",
   "name": "python",
   "nbconvert_exporter": "python",
   "pygments_lexer": "ipython3",
   "version": "3.8.10"
  }
 },
 "nbformat": 4,
 "nbformat_minor": 5
}
