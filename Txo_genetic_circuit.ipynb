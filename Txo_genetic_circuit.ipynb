{
 "cells": [
  {
   "cell_type": "markdown",
   "id": "128c1ead",
   "metadata": {},
   "source": [
    "# Transcription only genetic circuit design\n",
    "\n",
    "### Abstract\n",
    "\n",
    "While synthetic biology represents a promising approach to solve real-world problems, the use of genetically modified organisms is a cause of legal and environmental concerns. Cell-free systems have emerged as a possible solution but much work is needed to optimize their functionality and simplify their usage for Synthetic Biology. Here we present TXO, transcription-only genetic circuits, independent of translation or post-translation maturation. RNA aptamers are used as reaction output allowing the generation of fast, reliable and simple-to-design transcriptional units. TXO cell-free reactions and their possible applications are a promising new tool for fast and simple bench-to-market genetic circuit and biosensor applications.\n",
    "\n",
    "Sources: \n",
    "\n",
    "Pre-print https://www.biorxiv.org/content/10.1101/826230v2.abstract\n",
    "\n",
    "Primer list: https://www.wiki.ed.ac.uk/display/CFrenchLabwiki/Primer+List\n",
    "\n",
    "DNA sequences: https://www.wiki.ed.ac.uk/pages/viewpage.action?pageId=347016949\n",
    "\n",
    "Protocols: https://www.wiki.ed.ac.uk/pages/viewpage.action?pageId=347016967\n",
    "\n",
    "Laboratory records: https://www.wiki.ed.ac.uk/display/CFrenchLabwiki/Laboratory+Book\n",
    "\n",
    "\n",
    "\n",
    "*Project continued by **Mengxi Li** (You rock Maxine!)*\n"
   ]
  },
  {
   "cell_type": "markdown",
   "id": "da2d51cf",
   "metadata": {},
   "source": [
    "There are a few remarks to consider if you are creating these transcriptional genetic circuits. \n",
    "\n",
    "First, the most sensitive step is the transcription and all prior steps need to be optimised for this.\n",
    "\n",
    "The TXO system uses a mixed buffer granting the best conditions to favour both RNA transcription and RNA folding.\n",
    "\n",
    "pH, salts concentration, template concentration are extremely important \n",
    "\n",
    "* RNA is susceptible to alkaline hydrolysis at pH > 6.\n",
    "\n",
    "* An increase in salt concentration increases the electrostatic shielding around charged molecules, thereby decreasing their electrostatic interactions with other molecules. Metals like lead or cupper can affect RNA folding since they are charged ions.\n",
    "\n",
    "* RNA polymerase is also susceptible to ions, it can be inhibited by high NaCl concentrations affecting the binding to DNA (Monovalent salt concentration should not exceed 20mM)\n",
    "\n",
    "* Temperature can affect both RNA folding (not efficient at higher temperatures) and RNA transcription (depending on the RNApol used)\n",
    "\n",
    "Always remember that double- and single-stranded DNA and RNA are all strongly negatively charged and this is needed for ensuring proper interactions. \n",
    "\n",
    "For more information read *Sambrook, J., Fritsch, E. F., & Maniatis, T. (1989). Molecular cloning: a laboratory manual (No. Ed. 2). Cold spring harbor laboratory press.*"
   ]
  },
  {
   "cell_type": "markdown",
   "id": "a4437aff",
   "metadata": {},
   "source": [
    "### Amplicon design and synthesis\n",
    "\n",
    "Another limiting step is the quantity and quality of the linear DNA fragment needed. Linear fragments are shorter and therefore you have more DNA molecules in less space. RNA polymerase (100 U) commonly needs between 0.2–1 µg of DNA to  properly work; consider also that shorter fragments (<300bp) need larger transcription times.\n",
    "\n",
    "There are multiple online calculators that can help you to determine the number of moles of DNA that you have in a reaction. You just need to know in advance the fragment size, whether is a single or double stranded DNA and the concentration in nanograms. Consider that one NEB enzyme unit is defined as the amount of enzyme that will incorporate 1 nmol ATP into acid-insoluble material in a total reaction volume of 50 μl in 1 hour at 37°C. For more information check https://international.neb.com/products/m0251-t7-rna-polymerase#Product%20Information_Properties%20&%20Usage\n",
    "and reaction optimization done on 18-apr-2017 https://www.wiki.ed.ac.uk/display/CFrenchLabwiki/Laboratory+Book"
   ]
  },
  {
   "attachments": {},
   "cell_type": "markdown",
   "id": "c3010dfa",
   "metadata": {},
   "source": [
    "Considering the above mentioned, the best way of creating these amplicons in my personal experience is via overlapping or standard PCR when possible.\n",
    "\n",
    "A fully functional T7::fluorescent_RNA_aptamer can be generated via overlaping PCR, this since primers of up to 120 bp can be synthesised without major issues and technically speaking a ~200 bp fragment can be generated via this method. \n",
    "\n",
    "For this we use primers F296 and F297 which were designed for this specific purpose.\n",
    "\n",
    "|primer   |  name | sequence  |   \n",
    "|---|---|---|\n",
    "| F296  |  F30_iSpinach Fw | gaattcgcggccgcttCTAGAGTAATACGACTCACTATAGGGTTGCCATGTGTATGTGGGAGACGCGACTACGGTGAGGGTCGGGTCCAGTAGCTTCGGCTACTGTTGAGTAGAGTGTGG  | \n",
    "|  F297 | F30_iSpinach Rv  |  ctgcagcggccgctactagtaCCCCTCAAGACCCGTTTAGAGGCCCCAAGGGGTTATTTGCCATGAATGATCCCGAAGGATCATCAGAGTATGTGGGGAGACGCGACTACGGAGCCCACA |\n",
    "|   |   |   |\n",
    "\n",
    "Interestingly, even though these two primers have just 5 bp annealing properly they amplify a 235 bp fragment, using a standard PCR reaction without need for other template.  \n",
    "\n",
    "![F296-F297](img/f296f297.png)\n",
    "\n",
    "This fragemnt is ready to use as positive control in later transcription reactions. However, since this fragment generates positive results by itself if an RNA polymerase is added, it's not recommended to use this for amplifying derivatives with other promoters. In order to avoid F296-F297 contamination within your sample, you should use as template for a PCR reaction a F_PROMOTER - F297  reaction using a template without promoter such as the pTZ57R/T + iSpinach plasmid obtained from Alexis Autour, Institut de biologie moléculaire et cellulaire (IBMC), Universite de Strasbourg, France or any other pGEM-T-easy or pSEVA generated clone. Additionally, a linear fragment without promoter can be created using F297 primers. \n",
    "\n",
    "![pTZ57RT_iSpinach](img/pTZ57RT_iSpinach.png)\n",
    "\n",
    "![pTZ57RT_iSpinach_2](img/pTZ57RT_iSpinach_2.png)\n",
    "\n",
    "\n",
    "Hence, primers to be used to amplify each of the TXO constructs are \n",
    "\n",
    "|primer   |  promoter |\n",
    "|---|---|\n",
    "| F310 - F297  |  PbrR | \n",
    "| F311 - F297 | MerR |\n",
    "|F312 - F297 | CueR |\n",
    "|F313 - F297 | ArsR | \n",
    "|F405 - F297 | CnrH | \n",
    "|F404 - F297 | CzcN | \n",
    "|F296 - F297 | T7     | \n",
    "|No primer    | negative | \n",
    "\n",
    "The negative control is needed in case something is being amplified"
   ]
  },
  {
   "cell_type": "markdown",
   "id": "7cbfb0fd",
   "metadata": {},
   "source": [
    "### Data analysis\n",
    "\n",
    "Another important step is how to analysi the data. Mostly results were bases on Pfaffl [2001](https://academic.oup.com/nar/article/29/9/e45/2384081) mathematical model in how to interpret fluorescent results in quantitative analysis. Our results are similar (mathematically speaking) to the obtained in qPCR.\n",
    "\n",
    "Thus, you need to consider the negative noise that is going to change over time due to evaporation or concentration/degradation of components. Also a standard is recommended in these analysis which could be a baseline via ROX or a relative one via comparison with the positive control (here F296-F297). \n",
    "\n",
    "Also in highly disperse data, it's better to work with the median values rather than media. This to avoid missimpretation of datapoints. Since these experiments have fast results I usually did measure samples every 1 or 2 mins and then automised the analysis via scripts due to the high quantity of data generated. \n",
    "\n",
    "Careful also that the gain should be always the same and results should be normalised regarding moles due to different fragment sizes. You can't say that one gives better signal if the fragment has shorter size. It would also have a greater moles/uL concentration and, hence, more molecules being transcribed at certain timepoint than a larger amplicon.\n",
    "\n"
   ]
  }
 ],
 "metadata": {
  "kernelspec": {
   "display_name": "Python 3",
   "language": "python",
   "name": "python3"
  },
  "language_info": {
   "codemirror_mode": {
    "name": "ipython",
    "version": 3
   },
   "file_extension": ".py",
   "mimetype": "text/x-python",
   "name": "python",
   "nbconvert_exporter": "python",
   "pygments_lexer": "ipython3",
   "version": "3.8.10"
  }
 },
 "nbformat": 4,
 "nbformat_minor": 5
}
